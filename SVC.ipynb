{
 "cells": [
  {
   "cell_type": "code",
   "execution_count": 1,
   "id": "9ea74f94-4077-496a-8bec-a640c194c393",
   "metadata": {},
   "outputs": [],
   "source": [
    "from sklearn.datasets import fetch_openml"
   ]
  },
  {
   "cell_type": "code",
   "execution_count": 2,
   "id": "9796d72d-5dd3-42c2-be9c-19434d6e0d38",
   "metadata": {},
   "outputs": [],
   "source": [
    "x,y=fetch_openml(name=\"a9a\",return_X_y=True)"
   ]
  },
  {
   "cell_type": "code",
   "execution_count": 3,
   "id": "d6af6cfd-08ed-42df-8cbb-9028cb49b276",
   "metadata": {},
   "outputs": [
    {
     "data": {
      "text/plain": [
       "<48842x123 sparse matrix of type '<class 'numpy.float64'>'\n",
       "\twith 677323 stored elements in Compressed Sparse Row format>"
      ]
     },
     "execution_count": 3,
     "metadata": {},
     "output_type": "execute_result"
    }
   ],
   "source": [
    "x"
   ]
  },
  {
   "cell_type": "code",
   "execution_count": 4,
   "id": "e7d3848e-d3f1-446f-bbce-6e93cd611af0",
   "metadata": {},
   "outputs": [],
   "source": [
    "from sklearn.model_selection import train_test_split\n",
    "x_train,x_test,y_train,y_test=train_test_split(x,y,test_size=0.01,random_state=0)"
   ]
  },
  {
   "cell_type": "code",
   "execution_count": 5,
   "id": "c765d68c-fbb4-4ea1-807d-bce0b8037a5f",
   "metadata": {},
   "outputs": [
    {
     "name": "stderr",
     "output_type": "stream",
     "text": [
      "Intel(R) Extension for Scikit-learn* enabled (https://github.com/intel/scikit-learn-intelex)\n"
     ]
    }
   ],
   "source": [
    "from sklearnex import patch_sklearn\n",
    "patch_sklearn()"
   ]
  },
  {
   "cell_type": "code",
   "execution_count": 6,
   "id": "7f09d6b4-9d1a-4aa9-a356-0a731fb3e839",
   "metadata": {},
   "outputs": [
    {
     "data": {
      "text/plain": [
       "'intel extension for scikitlearn time: 55.85 s'"
      ]
     },
     "execution_count": 6,
     "metadata": {},
     "output_type": "execute_result"
    }
   ],
   "source": [
    "from sklearn.svm import SVC\n",
    "from timeit import default_timer as timer\n",
    "params={\"kernel\": \"rbf\", \"C\" : 100, \"gamma\": \"scale\"} #scale setas gamma value to \n",
    "start=timer()\n",
    "classifier=SVC(**params).fit(x_train,y_train)\n",
    "train_patched=timer()-start\n",
    "F\"intel extension for scikitlearn time: {train_patched:.2f} s\""
   ]
  },
  {
   "cell_type": "markdown",
   "id": "05c3459b-b04c-4343-8a28-4e7b849f07aa",
   "metadata": {},
   "source": []
  },
  {
   "cell_type": "code",
   "execution_count": 7,
   "id": "4d818b2a-ab47-4bf8-822b-096a423181a6",
   "metadata": {},
   "outputs": [
    {
     "name": "stdout",
     "output_type": "stream",
     "text": [
      "classification report for Intel extension fro scikit lean SVC :\n",
      "               precision    recall  f1-score   support\n",
      "\n",
      "        -1.0       0.90      0.90      0.90       376\n",
      "         1.0       0.68      0.67      0.68       113\n",
      "\n",
      "    accuracy                           0.85       489\n",
      "   macro avg       0.79      0.79      0.79       489\n",
      "weighted avg       0.85      0.85      0.85       489\n",
      "\n"
     ]
    }
   ],
   "source": [
    "from sklearn import metrics\n",
    "predicted=classifier.predict(x_test)\n",
    "report=metrics.classification_report(y_test,predicted)\n",
    "print(f\"classification report for Intel extension fro scikit lean SVC :\\n {report}\")"
   ]
  },
  {
   "cell_type": "code",
   "execution_count": null,
   "id": "eea1927c-b6fb-4945-a037-453f22b3fdeb",
   "metadata": {},
   "outputs": [],
   "source": [
    "#train the same with original scikit learn\n",
    "#use unpatch_sklearn"
   ]
  },
  {
   "cell_type": "code",
   "execution_count": 8,
   "id": "7b80a4ed-97e5-4fc6-98df-b19345cb0a7c",
   "metadata": {},
   "outputs": [],
   "source": [
    "from sklearnex import unpatch_sklearn\n",
    "unpatch_sklearn()"
   ]
  },
  {
   "cell_type": "code",
   "execution_count": 9,
   "id": "6bece0ff-24cb-44b3-b167-76b122b8df3c",
   "metadata": {},
   "outputs": [
    {
     "data": {
      "text/plain": [
       "'oroginal scikit learn time :1568.32s'"
      ]
     },
     "execution_count": 9,
     "metadata": {},
     "output_type": "execute_result"
    }
   ],
   "source": [
    "from sklearn.svm import SVC\n",
    "start=timer()\n",
    "classifier=SVC(**params).fit(x_train,y_train)\n",
    "train_unpatched=timer()-start\n",
    "f\"oroginal scikit learn time :{train_unpatched:.2f}s\""
   ]
  },
  {
   "cell_type": "code",
   "execution_count": 10,
   "id": "3968b93b-a659-456b-a412-bd1de0568ff4",
   "metadata": {},
   "outputs": [
    {
     "name": "stdout",
     "output_type": "stream",
     "text": [
      "classification report for Intel extension fro scikit lean SVC :\n",
      "               precision    recall  f1-score   support\n",
      "\n",
      "        -1.0       0.90      0.90      0.90       376\n",
      "         1.0       0.68      0.67      0.68       113\n",
      "\n",
      "    accuracy                           0.85       489\n",
      "   macro avg       0.79      0.79      0.79       489\n",
      "weighted avg       0.85      0.85      0.85       489\n",
      "\n"
     ]
    }
   ],
   "source": [
    "from sklearn import metrics\n",
    "predicted=classifier.predict(x_test)\n",
    "report=metrics.classification_report(y_test,predicted)\n",
    "print(f\"classification report for Intel extension fro scikit lean SVC :\\n {report}\")"
   ]
  },
  {
   "cell_type": "code",
   "execution_count": null,
   "id": "b7439b27-7f67-438d-a7d8-a5e49f6beb73",
   "metadata": {},
   "outputs": [],
   "source": []
  }
 ],
 "metadata": {
  "kernelspec": {
   "display_name": "Python 3 (ipykernel)",
   "language": "python",
   "name": "python3"
  },
  "language_info": {
   "codemirror_mode": {
    "name": "ipython",
    "version": 3
   },
   "file_extension": ".py",
   "mimetype": "text/x-python",
   "name": "python",
   "nbconvert_exporter": "python",
   "pygments_lexer": "ipython3",
   "version": "3.9.18"
  }
 },
 "nbformat": 4,
 "nbformat_minor": 5
}
